{
 "cells": [
  {
   "cell_type": "markdown",
   "metadata": {},
   "source": [
    "计算electron content： \n",
    "\n",
    "> total: $m^{-3}$\n",
    "> \n",
    "> geom_fact: $m^3$\n",
    "> \n",
    "> charge: C"
   ]
  },
  {
   "cell_type": "code",
   "execution_count": 2,
   "metadata": {},
   "outputs": [
    {
     "name": "stdout",
     "output_type": "stream",
     "text": [
      "9.7662601845\n"
     ]
    }
   ],
   "source": [
    "geom_fact = 2.4385169e-8\n",
    "charge = 1.602e-19\n",
    "\n",
    "total = 0.25e22\n",
    "\n",
    "print(total * geom_fact * charge * 1e6)"
   ]
  }
 ],
 "metadata": {
  "kernelspec": {
   "display_name": "notebook",
   "language": "python",
   "name": "python3"
  },
  "language_info": {
   "codemirror_mode": {
    "name": "ipython",
    "version": 3
   },
   "file_extension": ".py",
   "mimetype": "text/x-python",
   "name": "python",
   "nbconvert_exporter": "python",
   "pygments_lexer": "ipython3",
   "version": "3.12.4"
  }
 },
 "nbformat": 4,
 "nbformat_minor": 2
}
