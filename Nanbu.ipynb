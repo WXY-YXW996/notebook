{
 "cells": [
  {
   "cell_type": "markdown",
   "metadata": {},
   "source": [
    "# Nanbu 阅读笔记\n",
    "> 15.08.2024 Xin-Yu Wang"
   ]
  },
  {
   "cell_type": "markdown",
   "metadata": {},
   "source": [
    "## Introduction\n",
    "T&A 提出等离子体中的带电粒子之间相互作用的累积效应可以通过一系列**连续的二体小角碰撞**来实现。T&A 的方法忠实于采用Fokker-Planck算法。\n",
    "\n",
    "Nanbu提出 T&A 方法中存在两点问题需要被考虑：\n",
    "1. 碰撞频率取决于多种弛豫过程，比如减速/能量转移/速度偏转等，那么当多个过程同时发生时，应当采用哪种弛豫系数呢？\n",
    "\n",
    "2. T&A 方法要求时间步长必须远远小于弛豫时间，因为小角碰撞是一个一个发生的，所有需要时间步长远小于弛豫时间，才能够对弛豫过程进行解析。\n",
    "\n",
    "本文中的内容对这两个问题解答：\n",
    "1. 引入单一的碰撞频率来描述各种弛豫现象；\n",
    "\n",
    "2. 通过一个独特的二元碰撞来描述连续的小角度碰撞。"
   ]
  },
  {
   "cell_type": "markdown",
   "metadata": {},
   "source": [
    "## Theory"
   ]
  },
  {
   "cell_type": "markdown",
   "metadata": {},
   "source": [
    "### 连续碰撞角\n",
    "\n",
    "一个初始速度为$\\vec{g_0}$的试探粒子，在穿过固定场粒子群时发生$N$次碰撞，每一次碰撞后的粒子速度变为$\\vec{g_1},\\vec{g_2},...,\\vec{g_k},...,\\vec{g_N}$。在经历$N$次碰撞后的散射角为$\\chi_N$，满足$\\cos{\\chi_N}=\\vec{g_0}\\cdot\\vec{g_N} / g^2$，其中$g=\\lvert \\vec{g_0} \\rvert$。 因为通过的是一个固定场粒子群，所以试探粒子碰撞前后的速度并不改变，$g_k == g$。\n",
    "\n",
    "经过$N$次碰撞后的的散射角$\\chi_N$满足：\n",
    "\n",
    "$$\\sin^2{\\frac{\\chi_N}{2}}=\\frac{1}{4} \\sum^{N}_{k=1}\\theta^2_k+\\frac{1}{2}\\sum^{N}_{k=2}\\sum^{k-1}_{l=1}\\theta_k\\theta_l\\cos{(\\varphi_k-\\varphi_l)}$$\n",
    "\n",
    "所有的$\\{\\theta_1,\\theta_2,...\\}$和$\\{\\varphi_1,\\varphi_2,...\\}$都是互相独立的$0$到$2\\pi$的随机数。所以:\n",
    "$$\\langle\\cos{(\\varphi_k-\\varphi_l)}\\rangle=\\frac{1}{(2\\pi)^2}\\int^{2\\pi}_{0}\\int^{2\\pi}_{0}\\cos{(\\varphi_k-\\varphi_l)}d\\varphi_kd\\varphi_l=0$$\n",
    "那么:\n",
    "$$\\langle\\sin^2{\\frac{\\chi_N}{2}}\\rangle=\\frac{1}{4}\\sum^{N}_{k=1}\\langle\\theta_k^2\\rangle$$\n",
    "\n",
    "如果$(\\theta_1,\\varphi_1),(\\theta_2,\\varphi_2)...$不是随机数，那么就需要对$\\langle\\theta^2_k\\rangle$求平均。\n",
    "\n",
    "因为所有的$\\theta_1,\\theta_2,...$都满足相同的概率规则，所以$\\langle\\theta^2_1\\rangle=\\langle\\theta^2_2\\rangle=\\langle\\theta^2_3\\rangle=...$，即:\n",
    "$$\\langle\\sin^2{\\frac{\\chi_N}{2}}\\rangle=\\frac{1}{4}\\langle\\theta^2_1\\rangle N$$"
   ]
  },
  {
   "cell_type": "markdown",
   "metadata": {},
   "source": [
    "**需要注意的是，当$N\\to\\infty$，等号右边将区域无穷大，而左边仍小于1，所以要对其进行修正**"
   ]
  },
  {
   "cell_type": "markdown",
   "metadata": {},
   "source": [
    "### $\\langle\\sin^2(\\chi_N/2)\\rangle$的修正\n",
    "第$k_{th}$碰撞改变的小角度$\\theta_k$满足：\n",
    "\n",
    "$$\\tan{\\frac{\\theta_k}{2}}=\\frac{|q_\\alpha q_\\beta|}{4\\pi\\varepsilon_0\\mu g^2 b}$$\n",
    "\n",
    "其中$q_\\alpha$和$q_\\beta$是测试粒子和场粒子的电荷态，$\\varepsilon_0$是真空的介电常数，$\\mu$是测试电子的质量，$b$是碰撞参数。$b$的最大值为Debye长度$\\lambda_D$，可以通过随机数来得到$b$：$b=\\lambda_D\\sqrt{U}$。于是得到：\n",
    "\n",
    "$$\\theta_k=2\\tan^{-1}{(\\frac{\\theta_{min}}{2\\sqrt{U}})}$$\n",
    "\n",
    "其中$\\theta_{min}=b_0/\\lambda_D$是$\\vec{g_k}$最小的偏转角，$b_0$是$|q_\\alpha q_\\beta|/(4\\pi\\varepsilon_0\\mu g^2)$。方位角$\\varphi_k$通过$2\\pi U$得到。得到$\\theta_k$和$\\varphi_k$后，就可以得到$\\chi_k$。\n",
    "\n",
    "这里只有一个自由变量$\\theta_{min}$，通常选取$\\theta_{min}=e^{-10}(=2.6\\times10^-3~\\text{deg})$。但是为了提高弛豫，可以选择更大的$\\theta_{min}$，比如$0.5~\\text{deg},1~\\text{deg},2~\\text{deg}$。$\\langle \\theta_1^2 \\rangle$为：\n",
    "\n",
    "$$\\langle \\theta_1^2\\rangle = 8\\int^1_0[\\tan^{-1}(\\frac{\\theta_{min}}{2\\eta})]^2\\eta d\\eta$$\n",
    "\n",
    "其中$\\theta_{min}$的单位是弧度。当$\\theta_{min}$为1 deg时，$\\langle \\theta_1^2\\rangle$为$3.051\\times10^{-3}$。\n",
    "\n",
    "再引入一个新的函数$s$：\n",
    "$$s=\\frac{1}{2}\\langle \\theta_1^2\\rangle N$$\n",
    "\n",
    "于是可以通过$s$来得到:\n",
    "$$\\langle\\sin^2(\\frac{\\chi_N}{2})\\rangle=\\frac{1}{2}(1-e^{-s})$$\n"
   ]
  },
  {
   "cell_type": "markdown",
   "metadata": {},
   "source": [
    "### $\\chi_N$的概率密度函数\n",
    "$$f(\\chi_N)=\\frac{A}{4\\pi\\sinh A}\\exp(A\\cos\\chi_N)$$\n",
    "其中$A$满足\n",
    "$$\\coth A-A^{-1}=e^{-s}$$\n",
    "\n",
    "当$N$确定后，$s$也就确定了，随后通过求解上面方程，即可得到$A$的值。然后再通过概率密度分布函数即可得到$\\chi_N$。"
   ]
  },
  {
   "cell_type": "markdown",
   "metadata": {},
   "source": [
    "**!!!已知$s$后可以通过查表来得到$A$的值**\n",
    "对于$s<0.01$可以取$A=1/s$; 对于$s>3$可以取$A=3e^{-s}$。"
   ]
  },
  {
   "cell_type": "markdown",
   "metadata": {},
   "source": [
    "在时间步长$\\Delta t$中发生小角碰撞的次数：\n",
    "$$N=n_{\\beta} g \\pi b_{max}^2\\Delta t$$\n",
    "其中$n_\\beta$是场粒子的密度。\n",
    "\n",
    "此时，$\\langle \\theta_1^2\\rangle = 2(\\frac{b_0}{b_{max}})^2\\ln \\Lambda$。其中$\\Lambda = \\lambda_D/b_0$。"
   ]
  },
  {
   "cell_type": "markdown",
   "metadata": {},
   "source": [
    "**整理后得到:**\n",
    "$$s=n_\\beta g\\pi b^2_0 \\ln\\Lambda \\Delta t$$\n",
    "\n",
    "即\n",
    "$$s = \\frac{\\ln\\Lambda}{4\\pi}({\\frac{q_\\alpha q_\\beta}{\\varepsilon_0 \\mu_{\\alpha\\beta}}})^2 n_\\beta g^{-3} \\Delta t$$"
   ]
  },
  {
   "cell_type": "markdown",
   "metadata": {},
   "source": [
    "以下是Vladimir 程序中计算s参数中常数的计算公式"
   ]
  },
  {
   "cell_type": "code",
   "execution_count": 4,
   "metadata": {},
   "outputs": [
    {
     "name": "stdout",
     "output_type": "stream",
     "text": [
      "0.2390774864692198\n"
     ]
    }
   ],
   "source": [
    "import numpy as np\n",
    "import scipy.constants as const\n",
    "parameters = 1.0 / (4.0 * const.pi) * (const.e * const.e/const.epsilon_0 / const.m_p)**2\n",
    "print(parameters)"
   ]
  },
  {
   "cell_type": "markdown",
   "metadata": {},
   "source": [
    "得到s参数后，通过求解s和A的方程来得到A的具体值。但是现在常用查表或者拟合公式来求解A的值，目前常用的拟合公式([Perez](https://pubs.aip.org/aip/pop/article-abstract/19/8/083104/108747/Improved-modeling-of-relativistic-collisions-and?redirectedFrom=fulltext))为:\n",
    "$$\n",
    "\\begin{aligned}\n",
    "  \\chi &=  &1 + s \\ln \\text{U} &  &  &s<0.1\\\\\n",
    "A^{-1} &=  & 0.0056958 &+ 0.9560202 s \\\\\n",
    "       &   &- 0.508139 s^2&+ 0.47913906 s^3    &0.1<&s<3\\\\\n",
    "       &   & - 0.12788975 s^4 &+ 0.02389567 s^5 &  &  &\\\\\n",
    "     A &=  & 3 \\exp(-s) &  &3<&s<6\\\\\n",
    "\\cos(\\chi)&= & 2 \\text{U} +1 &  &  6<&s\\\\\n",
    "\\end{aligned}\n",
    "$$"
   ]
  },
  {
   "cell_type": "markdown",
   "metadata": {},
   "source": [
    "得到A后,通过计算\n",
    "$$\\cos(\\chi)=\\frac{1}{A}\\ln\\left(e^{-A} + 2 \\text{U}\\sinh{A}\\right)$$\n",
    "\n",
    "这里的$\\chi$就是发生N次碰撞后的角度变化。\n",
    "\n",
    "再通过随机数来生成[0,$2\\pi$]的圆周角$\\varepsilon$，即可得到碰撞后的速度。\n",
    "\n",
    "$$\n",
    "\\vec{v_\\alpha}' = \\vec{v_\\alpha} - \\frac{m_\\beta}{m_\\alpha + m_\\beta}\\left[ \\vec{g}\\left(1-\\cos{\\chi}\\right) + \\vec{h} \\sin{\\chi} \\right]\\\\\n",
    "\n",
    "\\vec{v_\\beta}' = \\vec{v_\\beta} + \\frac{m_\\alpha}{m_\\alpha + m_\\beta}\\left[ \\vec{g}\\left(1-\\cos{\\chi}\\right) + \\vec{h} \\sin{\\chi} \\right]\\\\\n",
    "$$\n",
    "\n",
    "其中$\\vec{g} = \\vec{v_\\alpha} - \\vec{v_\\beta}$，而$\\vec{h}$为：\n",
    "$$\n",
    "\\begin{aligned}\n",
    "h_x &= g_\\perp \\cos{\\varepsilon}\\\\\n",
    "h_y &= - (g_y g_x \\cos{\\varepsilon} +g g_z \\sin{\\varepsilon})/g_\\perp\\\\\n",
    "h_z &= - (g_z g_x \\cos{\\varepsilon} -g g_y \\sin{\\varepsilon})/g_\\perp\n",
    "\\end{aligned}\n",
    "$$\n"
   ]
  },
  {
   "cell_type": "markdown",
   "metadata": {},
   "source": [
    "|  s   |   A(s)  |\n",
    "| ---- | ------- |\n",
    "| 0.01 | 100.5   |\n",
    "| 0.02 | 50.5    |\n",
    "| 0.03 | 33.84   |\n",
    "| 0.04 | 25.5    |\n",
    "| 0.05 | 20.5    |\n",
    "| 0.06 | 17.17   |\n",
    "| 0.07 | 14.79   |\n",
    "| 0.08 | 13.01   |\n",
    "| 0.09 | 11.62   |\n",
    "| 0.1  | 10.51   |\n",
    "| 0.2  | 5.516   |\n",
    "| 0.3  | 3.845   |\n",
    "| 0.4  | 2.987   |\n",
    "| 0.5  | 2.448   |\n",
    "| 0.6  | 2.067   |\n",
    "| 0.7  | 1.779   |\n",
    "| 0.8  | 1.551   |\n",
    "| 0.9  | 1.363   |\n",
    "| 1    | 1.207   |\n",
    "| 2    | 0.4105  |\n",
    "| 3    | 0.1496  |\n",
    "| 4    | 0.05496 |"
   ]
  },
  {
   "cell_type": "markdown",
   "metadata": {},
   "source": [
    "————————————————"
   ]
  },
  {
   "cell_type": "markdown",
   "metadata": {},
   "source": [
    "以下是Perez文章中关于二元碰撞的内容"
   ]
  },
  {
   "cell_type": "markdown",
   "metadata": {},
   "source": [
    "————————————————"
   ]
  },
  {
   "cell_type": "markdown",
   "metadata": {},
   "source": [
    "考虑试探粒子1与背景粒子2发生碰撞的情况。粒子1和粒子2的电荷量分别为$q_1$和$q_2$，质量分别为$m_1$和$m_2$，密度分别为$n_1$和$n_2$。在实验室坐标系下，他们具有动量$\\vec{p_1}$和$\\vec{p_2}$，速度$\\vec{v_1}$和$\\vec{v_2}$，相对论因子$\\gamma_1$和$\\gamma_2$。\n",
    "\n",
    "质心速度为：\n",
    "$$\\vec{v}_{C}=\\frac{\\gamma_1 m_1\\vec{v_1}+\\gamma_2 m_2\\vec{v_2}}{\\gamma_1 m_1+\\gamma_2 m_2}$$\n",
    "\n",
    "那么试探粒子在质心系下的动量为：\n",
    "$$\\vec{p_1}^* = \\vec{p_1}+\\left[ \\frac{\\gamma_C - 1}{v_C^2} (\\vec{v_c} \\cdot \\vec{v_1})  - \\gamma_C \\right] m_1 \\gamma_1 \\vec{v_C}$$\n",
    "\n",
    "其中$\\gamma_C = \\frac{1}{\\sqrt{1 - v_C^2 / c^2}}$。 在质心系下有$\\vec{p_1}^* = -\\vec{p_2}^*$。"
   ]
  },
  {
   "cell_type": "markdown",
   "metadata": {},
   "source": [
    "考虑一个时间步长（远大于碰撞时间）内，连续碰撞$N$次后速度的变化角$\\chi^* (0<\\chi^*<\\pi)$。其满足如下分布：\n",
    "$$f(\\chi^*) = \\frac{A}{4\\pi \\sinh{A}} \\exp(A \\cos{\\chi^*})$$\n",
    "其中系数$A$满足:\n",
    "$$\\coth{A} - A^{-1} = \\exp{-s_{12}}$$\n",
    "也就是说，$ \\chi^* $的分布仅有一个参数$ s_{12} = N\\left< \\theta^{*2}\\right> $决定，其中$ \\left<\\theta^{*2}\\right> $是单次碰撞角度的平方根。"
   ]
  },
  {
   "cell_type": "markdown",
   "metadata": {},
   "source": [
    "相对论下的$s_{12}$的计算由以下方法得到：\n",
    "\n",
    "一个时间步长中有效的碰撞次数$N=\\sigma v_{rel} n_2 \\Delta t$，其中$\\sigma$是有效碰撞截面，$v_{rel} = |\\vec{v_1} - \\vec{v_2}|$。考虑相对论不变量$\\sigma v_{rel} \\gamma_1 \\gamma_2$，可以得到有效碰撞次数：\n",
    "$$N = \\sigma^* v_{rel}^* \\frac{\\gamma_1^* \\gamma_2^*}{\\gamma_1 \\gamma_2} n_2 \\Delta t$$\n",
    "\n",
    "相对论下的微分库伦碰撞散射截面为（[Frankel](https://journals.aps.org/pra/abstract/10.1103/PhysRevA.20.2120)）:\n",
    "$$\\frac{d\\sigma^*}{d\\Omega^*} = \\left(\\frac{2 q_1 q_2}{4\\pi\\varepsilon_0} \\frac{1+v_1^* v_2^*/c^2}{p_1^* v_{rel}} \\right)^2 \\frac{1}{\\theta^{*4}}$$\n",
    "\n",
    "对上式从$\\theta_{min}$(Debye长度所对应的角度)到$\\theta_{max} = 2~\\text{rad}$积分可得：\n",
    "$$\\left<\\theta^{*2}\\right> = \\frac{1}{\\sigma^*} \\frac{\\ln \\Lambda}{2\\pi} \\left( \\frac{q_1 q_2}{\\varepsilon_0} \\frac{1+v_1^* v_2^*/c^2}{p_1^* v_{rel}^*}\\right) ^2$$\n",
    "\n",
    "其中引入库伦对数$\\ln \\Lambda = \\ln(2/\\theta_{min})$。"
   ]
  },
  {
   "cell_type": "markdown",
   "metadata": {},
   "source": [
    "将洛伦兹系数$\\gamma_1^* = (1-\\vec{v}_C \\cdot \\vec{v}_1/c^2)\\gamma_C \\gamma_1$和$\\gamma_2^* = (1-\\vec{v}_C \\cdot \\vec{v}_2 /c^2)\\gamma_C \\gamma_2$带入得到:\n",
    "$$\n",
    "v_{rel}^* = v_1^* + v_2^* = \\frac{(m_1 \\gamma_1 + m_2 \\gamma_2)p_1^*}{m_1 \\gamma_1^* m_2 \\gamma_2^* \\gamma_C}\n",
    "$$\n",
    "得到相对论下的s参数:\n",
    "$$\n",
    "s_{12} = \\frac{n_2 \\Delta t \\ln \\Lambda (q_1 q_2)^2}{4 \\pi \\varepsilon_0^2 c^4 m_1 \\gamma_1 m_2 \\gamma_2} \\frac{\\gamma_C p_1^*}{m_1 \\gamma_1 + m_2 \\gamma_2} \\\\ \\times (\\frac{m_1 \\gamma_1^* m_2 \\gamma_2^*}{p_1^{*2}}c^2 + 1)^2\n",
    "$$\n",
    "\n",
    "通过均匀分布随机数来获得散射角$\\chi^*$，这部分与Nanbu一致。"
   ]
  },
  {
   "cell_type": "markdown",
   "metadata": {},
   "source": [
    "得到散射角$\\chi$后，通过随机数得到周角$\\phi^*$，最后得到散射后的动量:\n",
    "$$\n",
    "\\vec{p}_{1f}^* = -\\vec{p}_{2f}^* = \n",
    "\\left[\n",
    "\\begin{array}{l}\n",
    "    \\frac{p_{1x}^*p_{1z}^*}{p_{1\\perp}^*} & -\\frac{p_{1y}^*p_1^*}{p_{1\\perp}^*} & p_{1x}^* \\\\\n",
    "    \\frac{p_{1y}^*p_{1z}^*}{p_{1\\perp}^*} & \\frac{p_{1x}^*p_1^*}{p_{1\\perp}^*} & p_{1y}^* \\\\\n",
    "    -p_{1\\perp}^* & 0 & p_{1z}^*\n",
    "\\end{array}\n",
    "\\right]\n",
    "\\\\\n",
    "\\cdot\n",
    "\\left( \n",
    "    \\begin{array}{c}\n",
    "    \\sin{\\chi^*}\\cos{\\phi^*} \\\\\n",
    "    \\sin{\\chi^*}\\sin{\\phi^*} \\\\\n",
    "    \\cos{\\chi^*}\n",
    "    \\end{array}\n",
    "\\right)\n",
    "$$\n",
    "其中$p_{1\\perp}^* = \\sqrt{p_{1x}^{*2} + p_{1y}^{*2}}$。\n",
    "\n",
    "最后得到实验室系下的粒子动量为：\n",
    "$$\n",
    "\\vec{p}_{1f} = \\vec{p}_{1f}^* + \\vec{v}_C \\left[ \\frac{\\gamma_C -1}{v_C^2}(\\vec{v}_C \\cdot \\vec{p}_{1f}^*) + m_1 \\gamma_1^* \\gamma_C \\right]\n",
    "$$"
   ]
  }
 ],
 "metadata": {
  "kernelspec": {
   "display_name": "calc_temperatrue",
   "language": "python",
   "name": "python3"
  },
  "language_info": {
   "codemirror_mode": {
    "name": "ipython",
    "version": 3
   },
   "file_extension": ".py",
   "mimetype": "text/x-python",
   "name": "python",
   "nbconvert_exporter": "python",
   "pygments_lexer": "ipython3",
   "version": "3.12.4"
  }
 },
 "nbformat": 4,
 "nbformat_minor": 2
}
